{
  "cells": [
    {
      "cell_type": "code",
      "execution_count": 1,
      "id": "6d0e64e6-6e17-4839-8da6-006b812c7a97",
      "metadata": {
        "colab": {
          "base_uri": "https://localhost:8080/"
        },
        "id": "6d0e64e6-6e17-4839-8da6-006b812c7a97",
        "outputId": "c0abdbbb-e514-4453-e4bf-f931b30a8dea"
      },
      "outputs": [
        {
          "name": "stdout",
          "output_type": "stream",
          "text": [
            "Welcome!, Hope my written code is clean and good\n",
            "Please enter your message: godd very good excellent good\n",
            "Please enter the letter you want to count: good\n",
            "The letter 'good' occurred 2 times in the message.\n",
            "The percentage of 'good' is: 6.90%\n"
          ]
        }
      ],
      "source": [
        "# A ) Welcome Message to the  user\n",
        "print(\"Welcome!, Hope my written code is clean and good\")\n",
        "\n",
        "# 1) Take input string from user\n",
        "message = input(\"Please enter your message: \")\n",
        "\n",
        "#2) Take input letter from user\n",
        "letter = input(\"Please enter the letter you want to count: \")\n",
        "\n",
        "# 3)Count how many times the letter occurred\n",
        "# we convert all our string and message to lower cases so to properly match the letter and return the count value\n",
        "letter_count = message.lower().count(letter.lower())\n",
        "\n",
        "# 4)Calculate the percentage of the letter in the message\n",
        "total_letters_perc = len(message)\n",
        "percentage = (letter_count / total_letters_perc) * 100\n",
        "\n",
        "# 5)Print the outputs using the format tab and two decimal pointer\n",
        "print(f\"The letter '{letter}' occurred {letter_count} times in the message.\")\n",
        "print(f\"The percentage of '{letter}' is: {percentage:.2f}%\") # limiitng the percentage to two decimals points"
      ]
    },
    {
      "cell_type": "markdown",
      "id": "b82520b9-1ca9-4c06-bbdb-7d8f1d1135e7",
      "metadata": {
        "id": "b82520b9-1ca9-4c06-bbdb-7d8f1d1135e7"
      },
      "source": [
        "B) String Manipulation"
      ]
    },
    {
      "cell_type": "code",
      "execution_count": 2,
      "id": "ac8e4348-22b2-4194-9577-25a5b9a1e932",
      "metadata": {
        "colab": {
          "base_uri": "https://localhost:8080/"
        },
        "id": "ac8e4348-22b2-4194-9577-25a5b9a1e932",
        "outputId": "a1fbb7b3-3b97-485a-a5f2-aff718b7feca"
      },
      "outputs": [
        {
          "name": "stdout",
          "output_type": "stream",
          "text": [
            "Please enter the word you want to count: i\n",
            "The word 'i' occurred 3 times.\n"
          ]
        }
      ],
      "source": [
        "# B) poem written in triple quotes for readability\n",
        "message_1 = \"\"\"I made myself a snowball\n",
        "As perfect as could be.\n",
        "I thought I'd keep it as a pet\n",
        "And let it sleep with me.\n",
        "I made it some pajamas\n",
        "And a pillow for its head.\n",
        "Then last night it ran away,\n",
        "But first it wet the bed.\"\"\"\n",
        "\n",
        "# 1) Take input word\n",
        "word = input(\"Please enter the word you want to count: \")\n",
        "\n",
        "# Split the message into words\n",
        "words = message_1.lower().split()     #splitting the words gives us the \"it\"  count\n",
        "\n",
        "# Count how many times the word occurred\n",
        "it_count = 0\n",
        "for w in words:\n",
        "    if w == word.lower():\n",
        "        it_count += 1\n",
        " # using the for loop function to iterate each count occured with string \"it\"\n",
        "\n",
        "# Print the outputs using formatting tab\n",
        "print(f\"The word '{word}' occurred {it_count} times.\")\n"
      ]
    },
    {
      "cell_type": "code",
      "execution_count": 3,
      "id": "f21d2762-8cfc-4014-b3eb-90258bdbe958",
      "metadata": {
        "colab": {
          "base_uri": "https://localhost:8080/"
        },
        "id": "f21d2762-8cfc-4014-b3eb-90258bdbe958",
        "outputId": "43c8ea08-104a-4266-cccd-904f5303a83f"
      },
      "outputs": [
        {
          "name": "stdout",
          "output_type": "stream",
          "text": [
            "The poem contains 210 characters.\n"
          ]
        }
      ],
      "source": [
        "# 2)\n",
        "\n",
        "# Counting the number of characters, including spaces and punctuation\n",
        "len_poe = len(message_1)\n",
        "\n",
        "print(f\"The poem contains {len_poe} characters.\")\n"
      ]
    },
    {
      "cell_type": "code",
      "execution_count": 4,
      "id": "a24ec5fe-c576-48df-a16a-708f8ea55954",
      "metadata": {
        "colab": {
          "base_uri": "https://localhost:8080/"
        },
        "id": "a24ec5fe-c576-48df-a16a-708f8ea55954",
        "outputId": "32161488-3c9c-4547-9436-a911f05fcc03"
      },
      "outputs": [
        {
          "name": "stdout",
          "output_type": "stream",
          "text": [
            "The first occurrence of the word 'it' is: 68\n",
            "The last occurrence of the word 'I' is: 106\n"
          ]
        }
      ],
      "source": [
        "# 3) & 4)\n",
        "# Finding the index of the first occurrence of the word \"it\"\n",
        "it_first = message_1.lower().find(\"it\")      # find method finds the first index occurence\n",
        "# Finding the index of the last occurrence of the word \"I\"\n",
        "I_last = message_1.rfind(\"I\")                         #this code will find the index of the last occurrence of the word \"I\" in the poem, regardless of case, and store it in the variable I_last. If \"I\" is not found, the rfind() method returns -1.\n",
        "\n",
        "print(f\"The first occurrence of the word 'it' is: {it_first}\")\n",
        "print(f\"The last occurrence of the word 'I' is: {I_last}\")\n"
      ]
    }
  ],
  "metadata": {
    "colab": {
      "provenance": []
    },
    "kernelspec": {
      "display_name": "Python 3 (ipykernel)",
      "language": "python",
      "name": "python3"
    },
    "language_info": {
      "codemirror_mode": {
        "name": "ipython",
        "version": 3
      },
      "file_extension": ".py",
      "mimetype": "text/x-python",
      "name": "python",
      "nbconvert_exporter": "python",
      "pygments_lexer": "ipython3",
      "version": "3.12.2"
    }
  },
  "nbformat": 4,
  "nbformat_minor": 5
}
