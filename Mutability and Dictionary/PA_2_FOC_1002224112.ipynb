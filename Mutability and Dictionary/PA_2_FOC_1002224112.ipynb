{
  "nbformat": 4,
  "nbformat_minor": 0,
  "metadata": {
    "colab": {
      "provenance": []
    },
    "kernelspec": {
      "name": "python3",
      "display_name": "Python 3"
    },
    "language_info": {
      "name": "python"
    }
  },
  "cells": [
    {
      "cell_type": "markdown",
      "source": [
        "# **2248-DASC-5300-001-FOUNDATION OF COMPUTING**\n",
        "\n",
        "\n",
        "**PA_2 Assignment**\n",
        "\n",
        "Kaushik Budur\n",
        "\n",
        "MyMav ID : 1002224112\n"
      ],
      "metadata": {
        "id": "B-irY96wvYgi"
      }
    },
    {
      "cell_type": "code",
      "execution_count": 11,
      "metadata": {
        "colab": {
          "base_uri": "https://localhost:8080/"
        },
        "id": "1zoWJjgTlQZQ",
        "outputId": "82f0b581-f92b-49e4-c9dd-1c1f547d5bd1"
      },
      "outputs": [
        {
          "output_type": "stream",
          "name": "stdout",
          "text": [
            "['crazy_guy', 'amicoolyet']\n",
            "['crazy_guy', 'solid321', 'amicoolyet']\n",
            "['simon23']\n"
          ]
        }
      ],
      "source": [
        "def filter_popular(reacts_2D, names, threshold):\n",
        "    # Initialize an empty list to store popular users\n",
        "    popular_users = []\n",
        "\n",
        "    # Initialize a counter for the current user index\n",
        "    user_index = 0\n",
        "\n",
        "    # Use a while loop to iterate through users\n",
        "    while user_index < len(names):\n",
        "        # Get the current user's reactions\n",
        "        user_reactions = reacts_2D[user_index]\n",
        "\n",
        "        # Initialize total engagement for current user\n",
        "        total_engagement = 0\n",
        "        reaction_index = 0\n",
        "\n",
        "        # Use a while loop to sum up reactions\n",
        "        while reaction_index < len(user_reactions):\n",
        "            total_engagement = total_engagement + user_reactions[reaction_index]\n",
        "            reaction_index = reaction_index + 1\n",
        "\n",
        "        # Check if user is popular and add to list if so\n",
        "        if total_engagement >= threshold:\n",
        "            popular_users.append(names[user_index])\n",
        "\n",
        "        # Move to next user\n",
        "        user_index = user_index + 1\n",
        "\n",
        "    # Return the list of popular users\n",
        "    return popular_users\n",
        "\n",
        "# # Example 1\n",
        "# result1 = filter_popular([[4, 9, 6, 5], [1, 2, 3, 5, 8], [17, 2, 9]],\n",
        "#                           [\"crazy_guy\", \"solid321\", \"amicoolyet\"], 22)\n",
        "# print(result1)  # Output: ['crazy_guy', 'amicoolyet']\n",
        "\n",
        "# # Example 2\n",
        "# result2 = filter_popular([[4, 9, 6, 5], [1, 2, 3, 5, 8], [17, 2, 9]],\n",
        "#                           [\"crazy_guy\", \"solid321\", \"amicoolyet\"], 15)\n",
        "# print(result2)  # Output: ['crazy_guy', 'solid321', 'amicoolyet']\n",
        "\n",
        "# # Example 3\n",
        "# result3 = filter_popular([[31], [22, 1, 1], [2, 2, 11, 65]],\n",
        "#                           [\"alien\", \"tomato2\", \"simon23\"], 50)\n",
        "# print(result3)  # Output: ['simon23']\n"
      ]
    },
    {
      "cell_type": "code",
      "source": [
        "def gather_engagement(names, reacts, grouping):\n",
        "    # Initialize the list to hold grouped engagement data\n",
        "    grouped_engagements = []\n",
        "\n",
        "    # Initialize index for reacts list\n",
        "    react_index = 0\n",
        "\n",
        "    # Process each user\n",
        "    for user_index in range(len(names)):\n",
        "        # Start with the user's name\n",
        "        user_data = [names[user_index]]\n",
        "\n",
        "        # Get the number of reactions for this user\n",
        "        react_count = grouping[user_index]\n",
        "\n",
        "        # Add reactions for this user\n",
        "        reactions_added = 0\n",
        "        while reactions_added < react_count and react_index < len(reacts):\n",
        "            user_data.append(reacts[react_index])\n",
        "            react_index = react_index + 1\n",
        "            reactions_added = reactions_added + 1\n",
        "\n",
        "        # Add this user's data to the grouped engagements\n",
        "        grouped_engagements.append(user_data)\n",
        "\n",
        "    return grouped_engagements\n",
        "\n",
        "# # Example 1\n",
        "# result1 = gather_engagement(\n",
        "#     [\"crazy_guy\", \"solid321\", \"amicoolyet\"],\n",
        "#     [4, 9, 6, 5, 1, 2, 3, 5, 8, 17, 2, 9],\n",
        "#     [4, 5, 3]\n",
        "# )\n",
        "# print(result1)  # Output: [['crazy_guy', 4, 9, 6, 5], ['solid321', 1, 2, 3, 5, 8], ['amicoolyet', 17, 2, 9]]\n",
        "\n",
        "# # Example 2\n",
        "# result2 = gather_engagement(\n",
        "#     [\"crazy_guy\", \"solid321\", \"amicoolyet\"],\n",
        "#     [4, 9, 6, 5, 1, 2, 3, 5, 8, 17, 2, 9],\n",
        "#     [2, 1, 9]\n",
        "# )\n",
        "# print(result2)  # Output: [['crazy_guy', 4, 9], ['solid321', 6], ['amicoolyet', 5, 1, 2, 3, 5, 8, 17, 2, 9]]\n",
        "\n",
        "# # Example 3\n",
        "# result3 = gather_engagement(\n",
        "#     [\"butter12\", \"helloworld\"],\n",
        "#     [40, 3, 35, 7],\n",
        "#     [0, 4]\n",
        "# )\n",
        "# print(result3)  # Output: [['butter12'], ['helloworld', 40, 3, 35, 7]]"
      ],
      "metadata": {
        "colab": {
          "base_uri": "https://localhost:8080/"
        },
        "id": "_DxPL3LcmQ26",
        "outputId": "b03b4f0d-4323-4d7e-e036-c09ef0f3cf9c"
      },
      "execution_count": 13,
      "outputs": [
        {
          "output_type": "stream",
          "name": "stdout",
          "text": [
            "[['crazy_guy', 4, 9, 6, 5], ['solid321', 1, 2, 3, 5, 8], ['amicoolyet', 17, 2, 9]]\n",
            "[['crazy_guy', 4, 9], ['solid321', 6], ['amicoolyet', 5, 1, 2, 3, 5, 8, 17, 2, 9]]\n",
            "[['butter12'], ['helloworld', 40, 3, 35, 7]]\n"
          ]
        }
      ]
    },
    {
      "cell_type": "code",
      "source": [
        "def clear_zeros(reacts_2D):\n",
        "    # Initialize an empty list to hold the cleaned data\n",
        "    cleaned_data = []\n",
        "\n",
        "    # Initialize user index\n",
        "    user_index = 0\n",
        "\n",
        "    # Process each user's reactions\n",
        "    while user_index < len(reacts_2D):\n",
        "        user_reacts = reacts_2D[user_index]\n",
        "\n",
        "        # Initialize a list for this user's non-zero reactions\n",
        "        non_zero_reacts = []\n",
        "\n",
        "        # Initialize reaction index\n",
        "        react_index = 0\n",
        "\n",
        "        # Process each reaction for this user\n",
        "        while react_index < len(user_reacts):\n",
        "            current_react = user_reacts[react_index]\n",
        "\n",
        "            # If reaction is non-zero, add it to non_zero_reacts\n",
        "            if current_react != 0:\n",
        "                non_zero_reacts.append(current_react)\n",
        "\n",
        "            react_index = react_index + 1\n",
        "\n",
        "        # If we found any non-zero reactions, add to cleaned_data\n",
        "        if len(non_zero_reacts) > 0:\n",
        "            cleaned_data.append(non_zero_reacts)\n",
        "\n",
        "        user_index = user_index + 1\n",
        "\n",
        "    # Return the cleaned 2D list\n",
        "    return cleaned_data\n",
        "\n",
        "# # Example usage:\n",
        "\n",
        "# clear_zeros([[4, 9, 0, 0], [1, 2, 0, 5, 8], [17, 2, 0]])\n",
        "# # Output: [[4, 9], [1, 2, 5, 8], [17, 2]]\n",
        "\n",
        "# clear_zeros([[1, 2, 0], [0, 0, 0], [17, 2, 4, 0]])\n",
        "# # Output: [[1, 2], [17, 2, 4]]\n",
        "\n",
        "# clear_zeros([[40, 3], [35, 7]])\n",
        "# # Output: [[40, 3], [35, 7]]"
      ],
      "metadata": {
        "colab": {
          "base_uri": "https://localhost:8080/"
        },
        "id": "jrcshyEMpyvo",
        "outputId": "2cb5c383-9e29-42c8-c32d-0136a63e219a"
      },
      "execution_count": 21,
      "outputs": [
        {
          "output_type": "execute_result",
          "data": {
            "text/plain": [
              "[[40, 3], [35, 7]]"
            ]
          },
          "metadata": {},
          "execution_count": 21
        }
      ]
    },
    {
      "cell_type": "code",
      "source": [
        "def form_reactions_list(react_dict1, react_dict2):\n",
        "    # Initialize an empty list to store all unique reactions\n",
        "    all_reactions = []\n",
        "\n",
        "    # Add reactions from react_dict1 to all_reactions\n",
        "    for reaction in react_dict1.keys():\n",
        "        if reaction not in all_reactions:\n",
        "            all_reactions.append(reaction)\n",
        "\n",
        "    # Add reactions from react_dict2 to all_reactions\n",
        "    for reaction in react_dict2.keys():\n",
        "        if reaction not in all_reactions:\n",
        "            all_reactions.append(reaction)\n",
        "\n",
        "    # Initialize the final 2D list\n",
        "    reactions_list = []\n",
        "\n",
        "    # Process each unique reaction\n",
        "    for reaction in all_reactions:\n",
        "        count = 0\n",
        "\n",
        "        # Check if reaction is in react_dict1 and add count\n",
        "        if reaction in react_dict1:\n",
        "            count = count + react_dict1[reaction]\n",
        "\n",
        "        # Check if reaction is in react_dict2 and add count\n",
        "        if reaction in react_dict2:\n",
        "            count = count + react_dict2[reaction]\n",
        "\n",
        "        # Append the reaction and its total count to reactions_list\n",
        "        reactions_list.append([reaction, count])\n",
        "\n",
        "    # Return the final 2D list of reactions\n",
        "    return reactions_list\n",
        "\n",
        "# # Example usage:\n",
        "\n",
        "# form_reactions_list({\"like\": 5, \"comment\": 10, \"share\": 3},\n",
        "#                     {\"love\": 10, \"like\": 5, \"wow\": 2})\n",
        "# # Output: [['like', 10], ['comment', 10], ['share', 3], ['love', 10], ['wow', 2]]\n",
        "\n",
        "# form_reactions_list({\"wow\": 34, \"angry\": 9, \"comment\": 1, \"sad\": 42},\n",
        "#                     {\"wow\": 34, \"angry\": 9, \"comment\": 1, \"sad\": 42})\n",
        "# # Output: [['wow', 68], ['angry', 18], ['comment', 2], ['sad', 84]]\n",
        "\n",
        "# form_reactions_list({\"angry\": 54, \"love\": 11},\n",
        "#                     {\"share\": 21})\n",
        "# # Output: [['angry', 54], ['love', 11], ['share', 21]]\n"
      ],
      "metadata": {
        "colab": {
          "base_uri": "https://localhost:8080/"
        },
        "id": "2_Awjf24q43Z",
        "outputId": "cccbbea2-df90-4ec4-cfd1-ae92051077a8"
      },
      "execution_count": 25,
      "outputs": [
        {
          "output_type": "execute_result",
          "data": {
            "text/plain": [
              "[['like', 10], ['comment', 10], ['share', 3], ['love', 10], ['wow', 2]]"
            ]
          },
          "metadata": {},
          "execution_count": 25
        }
      ]
    },
    {
      "cell_type": "code",
      "source": [
        "def form_reactions_dict(reacts_2D):\n",
        "    # Initialize an empty dictionary to hold the reaction counts\n",
        "    reactions_dict = {}\n",
        "\n",
        "    # Initialize index for iterating through reacts_2D\n",
        "    index = 0\n",
        "\n",
        "    # Process each reaction in reacts_2D\n",
        "    while index < len(reacts_2D):\n",
        "        # Get the current reaction\n",
        "        current_reaction = reacts_2D[index]\n",
        "\n",
        "        # Extract reaction name and count\n",
        "        reaction_name = current_reaction[0]\n",
        "        reaction_count = current_reaction[1]\n",
        "\n",
        "        # Add reaction to dictionary\n",
        "        reactions_dict[reaction_name] = reaction_count\n",
        "\n",
        "        # Move to next reaction\n",
        "        index = index + 1\n",
        "\n",
        "    # Calculate total count\n",
        "    total_count = 0\n",
        "    for reaction_name in reactions_dict.keys():\n",
        "        total_count = total_count + reactions_dict[reaction_name]\n",
        "\n",
        "    # Add total count to dictionary\n",
        "    reactions_dict[\"total\"] = total_count\n",
        "\n",
        "    # Return the final dictionary\n",
        "    return reactions_dict\n",
        "\n",
        "# Example usage:\n",
        "\n",
        "# form_reactions_dict([['like', 10], ['comment', 10], ['share', 3],\n",
        "#                      ['love', 10], ['wow', 2]])\n",
        "# # Output: {'like': 10, 'comment': 10, 'share': 3, 'love': 10, 'wow': 2, 'total': 35}\n",
        "\n",
        "# form_reactions_dict([['comment', 21], ['share', 26], ['love', 10],\n",
        "#                      ['like', 5], ['wow', 2]])\n",
        "# # Output: {'comment': 21, 'share': 26, 'love': 10, 'like': 5, 'wow': 2, 'total': 64}\n",
        "\n",
        "# form_reactions_dict([['wow', 34], ['angry', 9], ['comment', 1],\n",
        "#                      ['sad', 43], ['haha', 11], ['love', 2]])\n",
        "# # Output: {'wow': 34, 'angry': 9, 'comment': 1, 'sad': 43, 'haha': 11, 'love': 2, 'total': 100}"
      ],
      "metadata": {
        "colab": {
          "base_uri": "https://localhost:8080/"
        },
        "id": "g8osRGaIrjIx",
        "outputId": "5cf5efc1-5a4b-4a18-80b6-56b5af3a820b"
      },
      "execution_count": 28,
      "outputs": [
        {
          "output_type": "execute_result",
          "data": {
            "text/plain": [
              "{'like': 10, 'comment': 10, 'share': 3, 'love': 10, 'wow': 2, 'total': 35}"
            ]
          },
          "metadata": {},
          "execution_count": 28
        }
      ]
    }
  ]
}